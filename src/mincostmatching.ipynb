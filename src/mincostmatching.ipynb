{
 "cells": [
  {
   "cell_type": "code",
   "execution_count": null,
   "metadata": {},
   "outputs": [],
   "source": [
    "import networkx as nx\n",
    "from tufast_matching_tool.matching import read_sheet\n",
    "from tufast_matching_tool.general import DAYS,SHIFTS,SHIFT_TYPES,get_shift_index\n",
    "from tufast_matching_tool.mincost import MatchingGraph"
   ]
  },
  {
   "cell_type": "code",
   "execution_count": null,
   "metadata": {},
   "outputs": [],
   "source": [
    "df, shift_type_dict = read_sheet(\"../Shiftsplan_lux025_2023-11-06.xlsx\")"
   ]
  },
  {
   "cell_type": "code",
   "execution_count": null,
   "metadata": {},
   "outputs": [],
   "source": [
    "matching_graph = MatchingGraph(df,shift_type_dict)"
   ]
  },
  {
   "cell_type": "code",
   "execution_count": null,
   "metadata": {},
   "outputs": [],
   "source": [
    "graph_copy = matching_graph.copy()\n",
    "\n",
    "#graph_copy.disable_shift(7)\n",
    "#graph_copy.disable_shift(19)\n",
    "\n",
    "flow = nx.min_cost_flow(graph_copy.graph,capacity=\"weight\",weight=\"cost\")\n",
    "graph_copy.get_flow_value()"
   ]
  },
  {
   "cell_type": "code",
   "execution_count": null,
   "metadata": {},
   "outputs": [],
   "source": [
    "flow = matching_graph.get_flow()\n",
    "retval = None\n",
    "if flow is None:\n",
    "    avai_shifts = [get_shift_index(s) for s in shift_type_dict if len(shift_type_dict[s]) > 0]\n",
    "    for i in range(3):\n",
    "        retval = matching_graph.get_best_flow_by_remove_shift(avai_shifts,i)\n",
    "        if retval is not None:\n",
    "            break\n",
    "\n",
    "if retval is not None:\n",
    "    graph_copy = matching_graph.copy()\n",
    "    for shift in retval[0]:\n",
    "        graph_copy.disable_shift(get_shift_index(shift))\n",
    "    flow = graph_copy.get_flow()\n",
    "else:\n",
    "    graph_copy = matching_graph.copy()\n",
    "\n",
    "shift_list = graph_copy.get_shift_list(flow)\n",
    "shift_list"
   ]
  },
  {
   "cell_type": "code",
   "execution_count": null,
   "metadata": {},
   "outputs": [],
   "source": [
    "# sanity check\n",
    "for s in shift_list:\n",
    "    if shift_list[s][\"lead\"] is not None:\n",
    "        assert df[df[\"name\"] == shift_list[s][\"lead\"]][s].values[0] == 1\n",
    "        is_trained = False\n",
    "        for t in SHIFT_TYPES:\n",
    "            is_trained |= df[df[\"name\"] == shift_list[s][\"lead\"]][\"sl_\"+t]\n",
    "        assert is_trained.values[0]\n",
    "    for w in shift_list[s][\"worker\"]:\n",
    "        assert df[df[\"name\"] == w][s].values[0] == 1"
   ]
  }
 ],
 "metadata": {
  "kernelspec": {
   "display_name": ".venv",
   "language": "python",
   "name": "python3"
  },
  "language_info": {
   "codemirror_mode": {
    "name": "ipython",
    "version": 3
   },
   "file_extension": ".py",
   "mimetype": "text/x-python",
   "name": "python",
   "nbconvert_exporter": "python",
   "pygments_lexer": "ipython3",
   "version": "3.12.0"
  }
 },
 "nbformat": 4,
 "nbformat_minor": 2
}
