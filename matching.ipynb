{
 "cells": [
  {
   "cell_type": "code",
   "execution_count": null,
   "metadata": {},
   "outputs": [],
   "source": [
    "import pandas as pd\n",
    "import matching"
   ]
  },
  {
   "cell_type": "code",
   "execution_count": null,
   "metadata": {},
   "outputs": [],
   "source": [
    "df,shift_type_dict = matching.read_sheet(\"Shiftsplan_lux025.xlsx\",\"ShiftList_KW16\")"
   ]
  },
  {
   "cell_type": "code",
   "execution_count": null,
   "metadata": {},
   "outputs": [],
   "source": [
    "shift_degree = [df[s].sum() for s in shift_type_dict]\n",
    "len([x for x in shift_degree if x < 2])\n",
    "for i,key in enumerate(shift_type_dict):\n",
    "    if shift_degree[i] < 2:\n",
    "        shift_type_dict[key] = []"
   ]
  },
  {
   "cell_type": "code",
   "execution_count": null,
   "metadata": {},
   "outputs": [],
   "source": [
    "df = df.sample(frac=1).reset_index(drop=True)\n",
    "base_mat = matching.shiftplan_to_adj_mat(df)\n",
    "shift_type_dict_copy = shift_type_dict.copy()\n",
    "for i in range(20):\n",
    "    sl_mat = matching.make_sl_adj_mat(df,base_mat,shift_type_dict_copy)\n",
    "    flow_sl = matching.get_flow_from_adj_mat(sl_mat)\n",
    "    w_mat = matching.make_worker_adj_mat(df,base_mat,flow_sl,2)\n",
    "    flow = matching.get_flow_from_adj_mat(w_mat)\n",
    "\n",
    "    shift_list = matching.get_shift_list(df,flow_sl,flow)\n",
    "\n",
    "    print(flow_sl.flow_value+flow.flow_value)\n",
    "    \n",
    "    for k in shift_list:\n",
    "        if (shift_list[k][\"lead\"] is not None) and (shift_list[k] is None or len(shift_list[k][\"worker\"]) == 0):\n",
    "            shift_type_dict_copy[k] = []\n",
    "            shift_list = None\n",
    "            break\n",
    "    \n",
    "    if shift_list is not None:\n",
    "        break\n",
    "\n",
    "w_mat_2 = matching.make_worker_adj_mat(df,w_mat,flow,2)\n",
    "flow_2 = matching.get_flow_from_adj_mat(w_mat_2)\n",
    "shift_list = matching.get_shift_list(df,flow_sl,flow,flow_2)\n",
    "print(flow_sl.flow_value+flow.flow_value+flow_2.flow_value)"
   ]
  },
  {
   "cell_type": "code",
   "execution_count": null,
   "metadata": {},
   "outputs": [],
   "source": [
    "for k in shift_list:\n",
    "    print(k)\n",
    "    print(shift_list[k][\"lead\"])\n",
    "    for m in shift_list[k][\"worker\"]:\n",
    "        print(m)\n",
    "    print()"
   ]
  },
  {
   "cell_type": "code",
   "execution_count": null,
   "metadata": {},
   "outputs": [],
   "source": [
    "matching.draw_matching(df,base_mat)"
   ]
  },
  {
   "cell_type": "code",
   "execution_count": null,
   "metadata": {},
   "outputs": [],
   "source": [
    "sl_mat = matching.make_sl_adj_mat(df,base_mat,shift_type_dict)\n",
    "matching.draw_matching(df,sl_mat)"
   ]
  },
  {
   "cell_type": "code",
   "execution_count": null,
   "metadata": {},
   "outputs": [],
   "source": [
    "matching.draw_matching(df,flow_sl.flow)"
   ]
  },
  {
   "cell_type": "code",
   "execution_count": null,
   "metadata": {},
   "outputs": [],
   "source": [
    "matching.draw_matching(df,flow.flow)"
   ]
  }
 ],
 "metadata": {
  "kernelspec": {
   "display_name": ".venv",
   "language": "python",
   "name": "python3"
  },
  "language_info": {
   "codemirror_mode": {
    "name": "ipython",
    "version": 3
   },
   "file_extension": ".py",
   "mimetype": "text/x-python",
   "name": "python",
   "nbconvert_exporter": "python",
   "pygments_lexer": "ipython3",
   "version": "3.12.0"
  }
 },
 "nbformat": 4,
 "nbformat_minor": 2
}
