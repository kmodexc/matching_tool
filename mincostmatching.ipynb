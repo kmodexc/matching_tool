{
 "cells": [
  {
   "cell_type": "code",
   "execution_count": null,
   "metadata": {},
   "outputs": [],
   "source": [
    "import pandas as pd\n",
    "import numpy as np\n",
    "from functools import reduce\n",
    "import networkx as nx\n",
    "from matching import read_sheet, DAYS, SHIFTS"
   ]
  },
  {
   "cell_type": "code",
   "execution_count": null,
   "metadata": {},
   "outputs": [],
   "source": [
    "df, shift_type_dict = read_sheet(\"Shiftsplan_lux025_3.xlsx\")\n",
    "df"
   ]
  },
  {
   "cell_type": "code",
   "execution_count": null,
   "metadata": {},
   "outputs": [],
   "source": [
    "shift_degree = [df[s].sum() for s in shift_type_dict]\n",
    "len([x for x in shift_degree if x < 2])\n",
    "for i,key in enumerate(shift_type_dict):\n",
    "    if shift_degree[i] < 2:\n",
    "        shift_type_dict[key] = []"
   ]
  },
  {
   "cell_type": "code",
   "execution_count": null,
   "metadata": {},
   "outputs": [],
   "source": [
    "node_lengths = [1,\n",
    "                df.shape[0],\n",
    "                (df.shape[0] * len(SHIFTS) * len(DAYS)),\n",
    "                (len(SHIFTS) * len(DAYS)),\n",
    "                (len(SHIFTS) * len(DAYS)),\n",
    "                (len(SHIFTS) * len(DAYS)),\n",
    "                1]\n",
    "node_offsets = [reduce(lambda x,y: x+y, node_lengths[:i]) for i in range(1,len(node_lengths))]\n",
    "print(node_offsets)\n",
    "n_nodes = reduce(lambda x,y: x+y, node_lengths)\n",
    "graph_matrix = np.zeros((n_nodes, n_nodes), dtype=\"int64\")\n",
    "graph_matrix[0, node_offsets[0]:node_offsets[1]] = df[\"n_shifts\"].to_numpy()\n",
    "#graph_matrix[node_offsets[1]:node_offsets[2], -1] = 3\n",
    "\n",
    "shiftlead_vector = np.zeros(df.shape[0]*len(SHIFTS)*len(DAYS))\n",
    "stretch_factor = len(SHIFTS)*len(DAYS)\n",
    "\n",
    "for s in shift_type_dict:\n",
    "    df_sl = None\n",
    "    for st in shift_type_dict[s]:\n",
    "        if df_sl is None:\n",
    "            df_sl = df[\"sl_\" + st].to_numpy().copy()\n",
    "        else:\n",
    "            df_sl |= df[\"sl_\" + st].to_numpy()\n",
    "    if df_sl is None:\n",
    "        df_sl = np.array(df.shape[0] * [False])\n",
    "    keysplit = s.split('_')\n",
    "    column_index = DAYS.index(keysplit[0]) * 3 + SHIFTS.index(keysplit[1])\n",
    "    shiftlead_vector[column_index::stretch_factor] = df_sl\n",
    "    graph_matrix[node_offsets[1]:node_offsets[2],node_offsets[2]+column_index] = shiftlead_vector\n",
    "\n",
    "for index, row in df.iterrows():\n",
    "    avai = row.to_numpy()[3:3+(len(SHIFTS)*len(DAYS))]\n",
    "    start_col = node_offsets[1]+(index*len(SHIFTS)*len(DAYS))\n",
    "    end_col = node_offsets[1]+((index+1)*len(SHIFTS)*len(DAYS))\n",
    "    graph_matrix[node_offsets[0]+index, start_col:end_col] = avai\n",
    "    #graph_matrix[start_col:end_col, node_offsets[2]:node_offsets[3]] = np.identity(len(SHIFTS)*len(DAYS))\n",
    "    graph_matrix[start_col:end_col, node_offsets[3]:node_offsets[4]] = np.identity(len(SHIFTS)*len(DAYS))\n",
    "    graph_matrix[start_col:end_col, node_offsets[4]:node_offsets[5]] = np.identity(len(SHIFTS)*len(DAYS))\n",
    "\n",
    "\n",
    "graph_matrix[node_offsets[4]:node_offsets[5], 0] = 1\n",
    "graph_matrix[0,node_offsets[5]] = 1000\n",
    "\n",
    "edge_costs={}\n",
    "for i in range(n_nodes):\n",
    "    for j in range(n_nodes):\n",
    "        if j == 0 and node_offsets[4] <= i < node_offsets[5]:\n",
    "            edge_costs[i,j] = -1\n",
    "        else:\n",
    "            edge_costs[i,j] = 0\n",
    "\n",
    "node_demands=np.zeros((n_nodes),dtype=\"int16\")\n",
    "for i in range(n_nodes):\n",
    "    if i == 0:\n",
    "        node_demands[i] = -1000\n",
    "    elif node_offsets[2] <= i < node_offsets[4]:\n",
    "        node_demands[i] = 1\n",
    "    elif i == node_offsets[5]:\n",
    "        node_demands[i] = 1000 - (2*len(SHIFTS)*len(DAYS))\n",
    "    else:\n",
    "        node_demands[i] = 0\n",
    "\n",
    "# disable shifts\n",
    "def disable_shift(i):\n",
    "    node_demands[node_offsets[2]+i] = 0\n",
    "    node_demands[node_offsets[3]+i] = 0\n",
    "    node_demands[0] += 2\n",
    "    graph_matrix[:,node_offsets[4]+i] = 0\n",
    "\n",
    "for s in shift_type_dict:\n",
    "    keysplit = s.split('_')\n",
    "    column_index = DAYS.index(keysplit[0]) * 3 + SHIFTS.index(keysplit[1])\n",
    "    if len(shift_type_dict[s]) == 0:\n",
    "        disable_shift(column_index)\n",
    "        print(\"disabled shift\",s)"
   ]
  },
  {
   "cell_type": "code",
   "execution_count": null,
   "metadata": {},
   "outputs": [],
   "source": [
    "disable_shift(15)\n",
    "disable_shift(20)\n",
    "\n",
    "graph = nx.from_numpy_array(graph_matrix, create_using=nx.DiGraph())"
   ]
  },
  {
   "cell_type": "code",
   "execution_count": null,
   "metadata": {},
   "outputs": [],
   "source": [
    "nx.set_edge_attributes(graph, edge_costs, \"cost\")"
   ]
  },
  {
   "cell_type": "code",
   "execution_count": null,
   "metadata": {},
   "outputs": [],
   "source": [
    "node_demands = dict(zip(range(len(node_demands)),list(node_demands)))\n",
    "nx.set_node_attributes(graph, node_demands, \"demand\")"
   ]
  },
  {
   "cell_type": "code",
   "execution_count": null,
   "metadata": {},
   "outputs": [],
   "source": [
    "flow = nx.min_cost_flow(graph,capacity=\"weight\",weight=\"cost\")"
   ]
  },
  {
   "cell_type": "code",
   "execution_count": null,
   "metadata": {},
   "outputs": [],
   "source": [
    "def get_matched_person(df,flow,shift,position):\n",
    "    keysplit = shift.split('_')\n",
    "    shift_ind = DAYS.index(keysplit[0]) * 3 + SHIFTS.index(keysplit[1])\n",
    "    for i in range(df.shape[0]*len(DAYS)*len(SHIFTS)):\n",
    "        if (node_offsets[position]+shift_ind) in flow[i+node_offsets[1]] and flow[i+node_offsets[1]][node_offsets[position]+shift_ind] > 0:\n",
    "            return (df.iloc[i//(len(DAYS)*len(SHIFTS))][\"name\"])"
   ]
  },
  {
   "cell_type": "code",
   "execution_count": null,
   "metadata": {},
   "outputs": [],
   "source": [
    "for d in DAYS:\n",
    "    for s in SHIFTS:\n",
    "        shift = d + \"_\" + s\n",
    "        print(d,s)\n",
    "        print(get_matched_person(df,flow,shift,2),\"(lead)\")\n",
    "        print(get_matched_person(df,flow,shift,3))\n",
    "        print(get_matched_person(df,flow,shift,4))\n",
    "        print()\n",
    "            "
   ]
  },
  {
   "cell_type": "code",
   "execution_count": null,
   "metadata": {},
   "outputs": [],
   "source": []
  }
 ],
 "metadata": {
  "kernelspec": {
   "display_name": ".venv",
   "language": "python",
   "name": "python3"
  },
  "language_info": {
   "codemirror_mode": {
    "name": "ipython",
    "version": 3
   },
   "file_extension": ".py",
   "mimetype": "text/x-python",
   "name": "python",
   "nbconvert_exporter": "python",
   "pygments_lexer": "ipython3",
   "version": "3.12.0"
  }
 },
 "nbformat": 4,
 "nbformat_minor": 2
}
